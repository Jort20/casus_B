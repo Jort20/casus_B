{
 "cells": [
  {
   "cell_type": "code",
   "execution_count": 1,
   "metadata": {},
   "outputs": [
    {
     "name": "stdout",
     "output_type": "stream",
     "text": [
      "Aantal woorden in het model: 16545452\n"
     ]
    }
   ],
   "source": [
    "import gensim\n",
    "\n",
    "\n",
    "model = gensim.models.KeyedVectors.load_word2vec_format('/data/datasets/thema10/BioSentVec.vec.bin', binary=True)\n",
    "\n",
    "\n",
    "print(f\"Aantal woorden in het model: {len(model.key_to_index)}\")\n",
    "\n"
   ]
  },
  {
   "cell_type": "code",
   "execution_count": 37,
   "metadata": {},
   "outputs": [
    {
     "name": "stderr",
     "output_type": "stream",
     "text": [
      "[nltk_data] Downloading package stopwords to\n",
      "[nltk_data]     /homes/jrgommers/nltk_data...\n",
      "[nltk_data]   Package stopwords is already up-to-date!\n"
     ]
    },
    {
     "data": {
      "text/plain": [
       "True"
      ]
     },
     "execution_count": 37,
     "metadata": {},
     "output_type": "execute_result"
    }
   ],
   "source": [
    "import nltk\n",
    "import re\n",
    "from nltk.corpus import stopwords\n",
    "from sklearn.feature_extraction.text import CountVectorizer\n",
    "from sklearn.model_selection import train_test_split\n",
    "from sklearn.neural_network import MLPClassifier\n",
    "nltk.download(\"stopwords\")\n"
   ]
  },
  {
   "cell_type": "code",
   "execution_count": 38,
   "metadata": {},
   "outputs": [],
   "source": [
    "def load_data(file_path):\n",
    "    with open (file_path, \"r\", encoding=\"utf-8\") as f:\n",
    "        text = f.read()\n",
    "    sentences = text.split(\"\\n\")\n",
    "\n",
    "    data = [sentence for sentence in sentences if len(sentence.split()) >= 10]\n",
    "\n",
    "    return data"
   ]
  },
  {
   "cell_type": "code",
   "execution_count": 39,
   "metadata": {},
   "outputs": [],
   "source": [
    "def preprocess_sentence(sentence,stop_words):\n",
    "    sentence = re.sub(r\"[\\/.,'\\\":;()]\",\"\",sentence)\n",
    "    words = sentence.lower().split()\n",
    "    words = [word for word in words if word not in stop_words]\n",
    "    return \" \".join(words)\n",
    "\n",
    "stop_words = set(stopwords.words(\"dutch\"))\n"
   ]
  },
  {
   "cell_type": "code",
   "execution_count": 40,
   "metadata": {},
   "outputs": [],
   "source": [
    "def process_data(data,stop_words):\n",
    "    processed = [preprocess_sentence(sentence, stop_words) for sentence in data]\n",
    "    return processed"
   ]
  },
  {
   "cell_type": "code",
   "execution_count": 41,
   "metadata": {},
   "outputs": [
    {
     "name": "stdout",
     "output_type": "stream",
     "text": [
      "Aantal unieke woorden:889\n"
     ]
    }
   ],
   "source": [
    "file_path =\"/homes/jrgommers/year 3/Deel_B/kanker-wiki.txt\"\n",
    "data = load_data(file_path)\n",
    "\n",
    "corpus = process_data(data, stop_words)\n",
    "vocab = set(\" \".join(corpus).split())\n",
    "\n",
    "print(f\"Aantal unieke woorden:{len(vocab)}\")"
   ]
  },
  {
   "cell_type": "code",
   "execution_count": 54,
   "metadata": {},
   "outputs": [],
   "source": [
    "def create_pairs(corpus, w_size):\n",
    "    X = []\n",
    "    y = []\n",
    "\n",
    "    for sentence in corpus:\n",
    "        words = sentence.split()\n",
    "        for index in range(w_size, len(words) - w_size):\n",
    "            context = words[index - w_size:index] + words[index + 1:index + 1 + w_size]\n",
    "            target = words[index]\n",
    "            X.append(context)\n",
    "            y.append(target)\n",
    "    \n",
    "\n",
    "    return X, y \n"
   ]
  },
  {
   "cell_type": "code",
   "execution_count": 55,
   "metadata": {},
   "outputs": [
    {
     "name": "stderr",
     "output_type": "stream",
     "text": [
      "/homes/jrgommers/year 3/myenv/lib/python3.11/site-packages/sklearn/feature_extraction/text.py:521: UserWarning: The parameter 'token_pattern' will not be used since 'tokenizer' is not None'\n",
      "  warnings.warn(\n"
     ]
    }
   ],
   "source": [
    "w_size = 2\n",
    "X, y = create_pairs(corpus, w_size)\n",
    "vectorizer = CountVectorizer(max_features=len(vocab), tokenizer=lambda x: x.split())\n",
    "X_sentences = vectorizer.fit_transform(corpus).toarray()\n",
    "voc = vectorizer.get_feature_names_out()\n",
    "\n",
    "X_train, X_test, y_train, y_test = train_test_split(X,y, test_size=0.2 , random_state=42) "
   ]
  }
 ],
 "metadata": {
  "kernelspec": {
   "display_name": "myenv",
   "language": "python",
   "name": "python3"
  },
  "language_info": {
   "codemirror_mode": {
    "name": "ipython",
    "version": 3
   },
   "file_extension": ".py",
   "mimetype": "text/x-python",
   "name": "python",
   "nbconvert_exporter": "python",
   "pygments_lexer": "ipython3",
   "version": "3.11.2"
  }
 },
 "nbformat": 4,
 "nbformat_minor": 2
}
