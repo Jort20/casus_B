{
 "cells": [
  {
   "cell_type": "markdown",
   "metadata": {},
   "source": [
    "### Natural language processing"
   ]
  },
  {
   "cell_type": "code",
   "execution_count": null,
   "metadata": {},
   "outputs": [
    {
     "name": "stdout",
     "output_type": "stream",
     "text": [
      "Aantal woorden in het model: 16545452\n"
     ]
    }
   ],
   "source": [
    "import gensim\n",
    "\n",
    "\n",
    "model = gensim.models.KeyedVectors.load_word2vec_format('/data/datasets/thema10/BioSentVec.vec.bin', binary=True)\n",
    "\n",
    "\n",
    "print(f\"Aantal woorden in het model: {len(model.key_to_index)}\")\n",
    "\n"
   ]
  },
  {
   "cell_type": "code",
   "execution_count": 5,
   "metadata": {},
   "outputs": [],
   "source": [
    "import numpy as np\n",
    "\n",
    "def cosine_similarity(vector1, vector2):\n",
    "    \"\"\"Bereken de cosinusgelijkheid tussen twee vectoren.\"\"\"\n",
    "    return np.dot(vector1, vector2) / (np.linalg.norm(vector1) * np.linalg.norm(vector2))\n"
   ]
  },
  {
   "cell_type": "code",
   "execution_count": 28,
   "metadata": {},
   "outputs": [
    {
     "name": "stderr",
     "output_type": "stream",
     "text": [
      "[nltk_data] Downloading package stopwords to\n",
      "[nltk_data]     /homes/jrgommers/nltk_data...\n",
      "[nltk_data]   Package stopwords is already up-to-date!\n"
     ]
    }
   ],
   "source": [
    "import string\n",
    "from nltk.corpus import stopwords\n",
    "import nltk\n",
    "nltk.download('stopwords')\n",
    "\n",
    "stop_words = set(stopwords.words('english'))\n",
    "\n",
    "def preprocess_sentence(sentence):\n",
    "    \"\"\"Verwerk de zin: verwijder hoofdletters, interpunctie en stopwoorden.\"\"\"\n",
    "    \n",
    "    sentence = sentence.lower()\n",
    "    \n",
    "    \n",
    "    sentence = sentence.translate(str.maketrans('', '', string.punctuation))\n",
    "    \n",
    "    \n",
    "    words = sentence.split()\n",
    "    \n",
    "    \n",
    "    words = [word for word in words if word not in stop_words]\n",
    "    \n",
    "    return words\n"
   ]
  },
  {
   "cell_type": "code",
   "execution_count": 29,
   "metadata": {},
   "outputs": [],
   "source": [
    "def embed_sentence(sentence, model):\n",
    "    \"\"\"Converteer een zin naar een gemiddelde woordembedding.\"\"\"\n",
    "    tokens = preprocess_sentence(sentence)\n",
    "    vectors = []\n",
    "    \n",
    "    for token in tokens:\n",
    "        if token in model.key_to_index:  \n",
    "            vectors.append(model[token])\n",
    "    \n",
    "    if vectors:  \n",
    "        return np.mean(vectors, axis=0)\n",
    "    else:\n",
    "        return np.zeros(model.vector_size)  \n"
   ]
  },
  {
   "cell_type": "code",
   "execution_count": 30,
   "metadata": {},
   "outputs": [
    {
     "name": "stdout",
     "output_type": "stream",
     "text": [
      "Cosinusgelijkheid tussen de twee zinnen: 0.9936835169792175\n"
     ]
    }
   ],
   "source": [
    "\n",
    "sentence1 = \"Breast cancers with HER2 amplification have a higher risk of CNS metastasis and poorer prognosis.\"\n",
    "sentence2 = \"Breast cancers with HER2 amplification are more aggressive, have a higher risk of CNS metastasis, and poorer prognosis.\"\n",
    "\n",
    "\n",
    "embedding1 = embed_sentence(sentence1, model)\n",
    "embedding2 = embed_sentence(sentence2, model)\n",
    "\n",
    "\n",
    "similarity = cosine_similarity(embedding1, embedding2)\n",
    "\n",
    "print(f\"Cosinusgelijkheid tussen de twee zinnen: {similarity}\")\n"
   ]
  },
  {
   "cell_type": "code",
   "execution_count": 31,
   "metadata": {},
   "outputs": [],
   "source": [
    "from sklearn.decomposition import PCA\n",
    "\n",
    "def compute_pca(X, n_components=2):\n",
    "    \"\"\"Verminder de dimensionaliteit van de embeddings naar n_components dimensies.\"\"\"\n",
    "    pca = PCA(n_components=n_components)\n",
    "    return pca.fit_transform(X)\n"
   ]
  },
  {
   "cell_type": "code",
   "execution_count": 32,
   "metadata": {},
   "outputs": [
    {
     "data": {
      "image/png": "[encoded data removed]",
      "text/plain": [
       "<Figure size 800x600 with 1 Axes>"
      ]
     },
     "metadata": {},
     "output_type": "display_data"
    }
   ],
   "source": [
    "import matplotlib.pyplot as plt\n",
    "\n",
    "\n",
    "words = ['cancer', 'risk', 'metastasis', 'prognosis', 'tumors', 'survival', 'benign', 'malignant']\n",
    "\n",
    "\n",
    "embeddings = np.array([model[word] for word in words if word in model.key_to_index])\n",
    "\n",
    "\n",
    "pca_result = compute_pca(embeddings, n_components=2)\n",
    "\n",
    "\n",
    "plt.figure(figsize=(8, 6))\n",
    "plt.scatter(pca_result[:, 0], pca_result[:, 1])\n",
    "\n",
    "\n",
    "for i, word in enumerate(words):\n",
    "    if word in model.key_to_index:\n",
    "        plt.text(pca_result[i, 0], pca_result[i, 1], word, fontsize=12)\n",
    "\n",
    "plt.title(\"PCA van synoniemen\")\n",
    "plt.show()\n"
   ]
  }
 ],
 "metadata": {
  "kernelspec": {
   "display_name": "myenv",
   "language": "python",
   "name": "python3"
  },
  "language_info": {
   "codemirror_mode": {
    "name": "ipython",
    "version": 3
   },
   "file_extension": ".py",
   "mimetype": "text/x-python",
   "name": "python",
   "nbconvert_exporter": "python",
   "pygments_lexer": "ipython3",
   "version": "3.11.2"
  }
 },
 "nbformat": 4,
 "nbformat_minor": 2
}
