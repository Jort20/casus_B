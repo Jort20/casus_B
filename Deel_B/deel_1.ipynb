{
 "cells": [
  {
   "cell_type": "code",
   "execution_count": null,
   "metadata": {},
   "outputs": [],
   "source": [
    "from deel_1 import NGramModel\n",
    "import string"
   ]
  },
  {
   "cell_type": "code",
   "execution_count": null,
   "metadata": {},
   "outputs": [],
   "source": [
    "\"\"\"\n",
    "Preporcessing of the data, removing excessive spaces and making it to one lowercase string\n",
    "\"\"\"\n",
    "def preprocess_text(text):\n",
    "    \n",
    "    text = text.lower()\n",
    "    text = text.strip('\\n')\n",
    "    text = ''.join([char if char in string.ascii_lowercase else ' ' for char in text])\n",
    "    return text"
   ]
  },
  {
   "cell_type": "code",
   "execution_count": null,
   "metadata": {},
   "outputs": [],
   "source": [
    "\n",
    "file_path = 'kanker-wiki.txt'\n",
    "\n",
    "# preprocess the corpus for the model\n",
    "with open(file_path, 'r', encoding='utf-8') as file:\n",
    "    text = file.read()\n",
    "text = preprocess_text(text)\n",
    "\n",
    "#train model\n",
    "ngram_model = NGramModel(4)\n",
    "ngram_model.fit(text)\n",
    "\n",
    "#prediction\n",
    "generated_text = ngram_model.predict(\"kank\", 300)\n",
    "print(f\"Gegenereerde tekst: {generated_text}\")\n"
   ]
  }
 ],
 "metadata": {
  "kernelspec": {
   "display_name": "Python 3",
   "language": "python",
   "name": "python3"
  },
  "language_info": {
   "name": "python",
   "version": "3.11.10"
  }
 },
 "nbformat": 4,
 "nbformat_minor": 2
}
